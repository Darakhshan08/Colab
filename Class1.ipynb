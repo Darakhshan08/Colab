{
  "nbformat": 4,
  "nbformat_minor": 0,
  "metadata": {
    "colab": {
      "provenance": [],
      "authorship_tag": "ABX9TyNSWFfw3jKhLTU3/q0uS/2C",
      "include_colab_link": true
    },
    "kernelspec": {
      "name": "python3",
      "display_name": "Python 3"
    },
    "language_info": {
      "name": "python"
    }
  },
  "cells": [
    {
      "cell_type": "markdown",
      "metadata": {
        "id": "view-in-github",
        "colab_type": "text"
      },
      "source": [
        "<a href=\"https://colab.research.google.com/github/Darakhshan08/Colab/blob/main/Class1.ipynb\" target=\"_parent\"><img src=\"https://colab.research.google.com/assets/colab-badge.svg\" alt=\"Open In Colab\"/></a>"
      ]
    },
    {
      "cell_type": "code",
      "execution_count": null,
      "metadata": {
        "colab": {
          "base_uri": "https://localhost:8080/"
        },
        "id": "yDaQEcoAiz0w",
        "outputId": "e1667b97-5a4c-4d86-9a56-0db3d07ee812"
      },
      "outputs": [
        {
          "output_type": "stream",
          "name": "stdout",
          "text": [
            "786\n"
          ]
        }
      ],
      "source": [
        "print(\"786\")"
      ]
    },
    {
      "cell_type": "code",
      "source": [
        "print(\"Darakhshan\")"
      ],
      "metadata": {
        "colab": {
          "base_uri": "https://localhost:8080/"
        },
        "id": "FnM3wfEjlKU3",
        "outputId": "441ead71-23c3-43b2-dcdc-6fa8596a38c0"
      },
      "execution_count": null,
      "outputs": [
        {
          "output_type": "stream",
          "name": "stdout",
          "text": [
            "Darakhshan\n"
          ]
        }
      ]
    },
    {
      "cell_type": "code",
      "source": [
        "print(\"Darakhshan\")\n",
        "print(\"Shah\")"
      ],
      "metadata": {
        "colab": {
          "base_uri": "https://localhost:8080/"
        },
        "id": "mCOjqgivl4SM",
        "outputId": "fd9d4483-1f12-43b7-8d14-1bdc302f353b"
      },
      "execution_count": null,
      "outputs": [
        {
          "output_type": "stream",
          "name": "stdout",
          "text": [
            "Darakhshan\n",
            "Shah\n"
          ]
        }
      ]
    },
    {
      "cell_type": "code",
      "source": [
        "a = 4;\n",
        "print(a)"
      ],
      "metadata": {
        "colab": {
          "base_uri": "https://localhost:8080/"
        },
        "id": "jFCbJmHomA5h",
        "outputId": "79637c09-df5d-4c3b-d547-940a778fc955"
      },
      "execution_count": null,
      "outputs": [
        {
          "output_type": "stream",
          "name": "stdout",
          "text": [
            "4\n"
          ]
        }
      ]
    },
    {
      "cell_type": "code",
      "source": [
        "print(type(a))"
      ],
      "metadata": {
        "colab": {
          "base_uri": "https://localhost:8080/"
        },
        "id": "32UEmMHdmRkQ",
        "outputId": "e2ab1e64-e230-4588-a8c9-905094b3b623"
      },
      "execution_count": null,
      "outputs": [
        {
          "output_type": "stream",
          "name": "stdout",
          "text": [
            "<class 'int'>\n"
          ]
        }
      ]
    },
    {
      "cell_type": "code",
      "source": [
        "print(10 > 9)"
      ],
      "metadata": {
        "colab": {
          "base_uri": "https://localhost:8080/"
        },
        "id": "Lkk0tM_lmaqX",
        "outputId": "74ad3fe7-001d-431d-a36e-d4be7707413e"
      },
      "execution_count": null,
      "outputs": [
        {
          "output_type": "stream",
          "name": "stdout",
          "text": [
            "True\n"
          ]
        }
      ]
    },
    {
      "cell_type": "code",
      "source": [
        "print(10 < 9)"
      ],
      "metadata": {
        "colab": {
          "base_uri": "https://localhost:8080/"
        },
        "id": "PWCGxVRnmmnX",
        "outputId": "b18252d2-c81d-4985-8cc3-776be3a4f8d6"
      },
      "execution_count": null,
      "outputs": [
        {
          "output_type": "stream",
          "name": "stdout",
          "text": [
            "False\n"
          ]
        }
      ]
    },
    {
      "cell_type": "code",
      "source": [
        "print(10 == 9)"
      ],
      "metadata": {
        "colab": {
          "base_uri": "https://localhost:8080/"
        },
        "id": "F51u_apumr__",
        "outputId": "bfbefd51-f51f-4fe2-ff19-68297264747a"
      },
      "execution_count": null,
      "outputs": [
        {
          "output_type": "stream",
          "name": "stdout",
          "text": [
            "False\n"
          ]
        }
      ]
    },
    {
      "cell_type": "code",
      "source": [
        "a = int(10)\n",
        "b = str(10)\n",
        "c = float(10)\n",
        "\n",
        "print(type(a))\n",
        "print(type(b))\n",
        "print(type(c))\n",
        "\n",
        "print(a)\n",
        "print(b)\n",
        "print(c)\n"
      ],
      "metadata": {
        "colab": {
          "base_uri": "https://localhost:8080/"
        },
        "id": "zpvrmfO5mzru",
        "outputId": "4ddfb5ab-9a8b-4b53-edba-5ef3b52b6f71"
      },
      "execution_count": null,
      "outputs": [
        {
          "output_type": "stream",
          "name": "stdout",
          "text": [
            "<class 'int'>\n",
            "<class 'str'>\n",
            "<class 'float'>\n",
            "10\n",
            "10\n",
            "10.0\n"
          ]
        }
      ]
    },
    {
      "cell_type": "code",
      "source": [
        "a = 10;\n",
        "b = 20;\n",
        "print(a+b)"
      ],
      "metadata": {
        "colab": {
          "base_uri": "https://localhost:8080/"
        },
        "id": "KN4MavTGnVDe",
        "outputId": "34de9621-b086-4df8-ff01-4a81d23de3a0"
      },
      "execution_count": null,
      "outputs": [
        {
          "output_type": "stream",
          "name": "stdout",
          "text": [
            "30\n"
          ]
        }
      ]
    },
    {
      "cell_type": "code",
      "source": [
        "if(a > b):\n",
        "  print(\"A is grater then b\")\n",
        "else:\n",
        "  print(\"Nothing\")"
      ],
      "metadata": {
        "colab": {
          "base_uri": "https://localhost:8080/"
        },
        "id": "n8UGwBYBoy3x",
        "outputId": "ab6525a2-ee1b-47aa-9040-e00527636082"
      },
      "execution_count": null,
      "outputs": [
        {
          "output_type": "stream",
          "name": "stdout",
          "text": [
            "Nothing\n"
          ]
        }
      ]
    },
    {
      "cell_type": "code",
      "source": [
        "list1 = ['dar','ali','farah']\n",
        "print(list1)\n",
        "\n",
        "list2 = [1,2,3,4,5, \"one\", True]\n",
        "print(list2[1:2])"
      ],
      "metadata": {
        "colab": {
          "base_uri": "https://localhost:8080/"
        },
        "id": "JNbhuAtipUpO",
        "outputId": "1ae83f27-2f3a-4ba6-c5db-fc09dbe133d9"
      },
      "execution_count": null,
      "outputs": [
        {
          "output_type": "stream",
          "name": "stdout",
          "text": [
            "['dar', 'ali', 'farah']\n",
            "[2]\n"
          ]
        }
      ]
    },
    {
      "cell_type": "code",
      "source": [
        "x=5\n",
        "x\n",
        "\n",
        "#x+2\n",
        "#x-2\n",
        "#x*2\n",
        "#x**2\n",
        "#x%2\n",
        "x/float(2)"
      ],
      "metadata": {
        "colab": {
          "base_uri": "https://localhost:8080/"
        },
        "id": "z8mLEbV5wONx",
        "outputId": "aa96de3c-96c2-4da3-d00c-6534d34ebe6a"
      },
      "execution_count": null,
      "outputs": [
        {
          "output_type": "execute_result",
          "data": {
            "text/plain": [
              "2.5"
            ]
          },
          "metadata": {},
          "execution_count": 32
        }
      ]
    },
    {
      "cell_type": "code",
      "source": [
        "my_string = 'thisStringIsAwesime'\n",
        "my_string\n",
        "'thisStringIsAwesime'"
      ],
      "metadata": {
        "colab": {
          "base_uri": "https://localhost:8080/",
          "height": 35
        },
        "id": "Hu4y8OsE0Scz",
        "outputId": "bc9bb848-0d50-47cf-be7b-8afa84102df9"
      },
      "execution_count": null,
      "outputs": [
        {
          "output_type": "execute_result",
          "data": {
            "text/plain": [
              "'thisStringIsAwesime'"
            ],
            "application/vnd.google.colaboratory.intrinsic+json": {
              "type": "string"
            }
          },
          "metadata": {},
          "execution_count": 36
        }
      ]
    },
    {
      "cell_type": "code",
      "source": [
        "my_string * 2\n",
        "'thisStringIsAwesomethisStringIsAwesome'"
      ],
      "metadata": {
        "colab": {
          "base_uri": "https://localhost:8080/",
          "height": 35
        },
        "id": "PpGnHOiG06fw",
        "outputId": "2e6e16be-d103-4c6e-bb1d-f39a1883fff6"
      },
      "execution_count": null,
      "outputs": [
        {
          "output_type": "execute_result",
          "data": {
            "text/plain": [
              "'thisStringIsAwesomethisStringIsAwesome'"
            ],
            "application/vnd.google.colaboratory.intrinsic+json": {
              "type": "string"
            }
          },
          "metadata": {},
          "execution_count": 37
        }
      ]
    },
    {
      "cell_type": "code",
      "source": [
        "my_string + 'Innit'\n",
        "'thisStringIsAwesomeInnit'"
      ],
      "metadata": {
        "colab": {
          "base_uri": "https://localhost:8080/",
          "height": 35
        },
        "id": "N2jIrRDg1QR-",
        "outputId": "1cb1f710-36bb-49fb-bd93-bf9faa733e83"
      },
      "execution_count": null,
      "outputs": [
        {
          "output_type": "execute_result",
          "data": {
            "text/plain": [
              "'thisStringIsAwesomeInnit'"
            ],
            "application/vnd.google.colaboratory.intrinsic+json": {
              "type": "string"
            }
          },
          "metadata": {},
          "execution_count": 38
        }
      ]
    },
    {
      "cell_type": "code",
      "source": [
        "'m' in my_string"
      ],
      "metadata": {
        "colab": {
          "base_uri": "https://localhost:8080/"
        },
        "id": "a2wfTgip1hue",
        "outputId": "e45e4201-b721-418a-af65-6eaada4185d9"
      },
      "execution_count": null,
      "outputs": [
        {
          "output_type": "execute_result",
          "data": {
            "text/plain": [
              "True"
            ]
          },
          "metadata": {},
          "execution_count": 39
        }
      ]
    },
    {
      "cell_type": "code",
      "source": [
        "#a = 'is'\n",
        "#b = 'nice'\n",
        "\n",
        "#print(a,b)"
      ],
      "metadata": {
        "colab": {
          "base_uri": "https://localhost:8080/"
        },
        "id": "RpsenqJ42GWc",
        "outputId": "d4ec9f84-c7a1-4d61-ee9e-4cee23a43384"
      },
      "execution_count": null,
      "outputs": [
        {
          "output_type": "stream",
          "name": "stdout",
          "text": [
            "is nice\n"
          ]
        }
      ]
    },
    {
      "cell_type": "code",
      "source": [
        "a = 'is'\n",
        "b = 'nice'\n",
        "my_list = ['my', 'list', a, b]\n",
        "my_list2 = [[4,5,6,7], [3,4,5,6]]\n",
        "\n",
        "# Subset\n",
        "#my_list[1]\n",
        "#my_list[-3]\n",
        "\n",
        "# Slice\n",
        "my_list[1:3]   #['list', 'is']\n",
        "#my_list[1:]   #['list', 'is', 'nice']\n",
        "#my_list[3:]   #['nice']\n",
        "#my_list[:]    #['my', 'list', 'is', 'nice']\n",
        "\n",
        "#Subset Lists of Lists\n",
        "#my_list2[1][0]    #3\n",
        "my_list2[1][:2]"
      ],
      "metadata": {
        "colab": {
          "base_uri": "https://localhost:8080/"
        },
        "id": "xbBPTwrY2Pj3",
        "outputId": "a982e24f-7502-4acc-d4c0-f2296f89e9ad"
      },
      "execution_count": null,
      "outputs": [
        {
          "output_type": "execute_result",
          "data": {
            "text/plain": [
              "[3, 4]"
            ]
          },
          "metadata": {},
          "execution_count": 14
        }
      ]
    },
    {
      "cell_type": "code",
      "source": [
        "my_list + my_list"
      ],
      "metadata": {
        "id": "iP0wy11o3SAV",
        "colab": {
          "base_uri": "https://localhost:8080/"
        },
        "outputId": "ba2fc69e-252b-4fff-9ec3-d6afe208a9d5"
      },
      "execution_count": null,
      "outputs": [
        {
          "output_type": "execute_result",
          "data": {
            "text/plain": [
              "['my', 'list', 'is', 'nice', 'my', 'list', 'is', 'nice']"
            ]
          },
          "metadata": {},
          "execution_count": 15
        }
      ]
    },
    {
      "cell_type": "code",
      "source": [
        "my_list * 2"
      ],
      "metadata": {
        "colab": {
          "base_uri": "https://localhost:8080/"
        },
        "id": "HEiyqC-Bv-b3",
        "outputId": "0961166b-9642-4062-cbf3-cd5c3a72ddb0"
      },
      "execution_count": null,
      "outputs": [
        {
          "output_type": "execute_result",
          "data": {
            "text/plain": [
              "['!', '!']"
            ]
          },
          "metadata": {},
          "execution_count": 43
        }
      ]
    },
    {
      "cell_type": "code",
      "source": [
        "#my_list2 > 4"
      ],
      "metadata": {
        "id": "8nl5juv4wF9W"
      },
      "execution_count": null,
      "outputs": []
    },
    {
      "cell_type": "code",
      "source": [
        "#List Methods\n",
        "#my_list.index(a)   #2\n",
        "#my_list.count(a)     #1\n",
        "#my_list.append('!')\n",
        "#my_list.remove('!')\n",
        "del(my_list[0:1])\n",
        "my_list.reverse()\n",
        "my_list.extend('!')\n",
        "my_list.extend('!')\n",
        "my_list.extend('!')\n",
        "my_list.sort()"
      ],
      "metadata": {
        "id": "IpOtJ6xOweEi"
      },
      "execution_count": null,
      "outputs": []
    },
    {
      "cell_type": "code",
      "source": [],
      "metadata": {
        "id": "oTSI1WVLxXTg"
      },
      "execution_count": null,
      "outputs": []
    }
  ]
}